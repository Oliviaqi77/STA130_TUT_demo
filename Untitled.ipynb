{
 "cells": [
  {
   "cell_type": "code",
   "execution_count": 1,
   "id": "0ddcb95b",
   "metadata": {},
   "outputs": [
    {
     "name": "stdout",
     "output_type": "stream",
     "text": [
      "PassengerId      0\n",
      "Survived         0\n",
      "Pclass           0\n",
      "Name             0\n",
      "Sex              0\n",
      "Age            177\n",
      "SibSp            0\n",
      "Parch            0\n",
      "Ticket           0\n",
      "Fare             0\n",
      "Cabin          687\n",
      "Embarked         2\n",
      "dtype: int64\n"
     ]
    }
   ],
   "source": [
    "import pandas as pd\n",
    "\n",
    "# Load the Titanic dataset\n",
    "url = \"https://raw.githubusercontent.com/datasciencedojo/datasets/master/titanic.csv\"\n",
    "titanic_data = pd.read_csv(url)\n",
    "\n",
    "# Check the missing value count for each column\n",
    "missing_values = titanic_data.isnull().sum()\n",
    "\n",
    "# Display the missing value count\n",
    "print(missing_values)\n",
    "\n"
   ]
  },
  {
   "cell_type": "markdown",
   "id": "7ebf0083",
   "metadata": {},
   "source": [
    "Summary:\n",
    "https://chatgpt.com/share/f158f381-6173-4bfa-91b4-f570c46808f1\n",
    "\n",
    "Request for Dataset: You asked for an amusing, funny, or interesting dataset with missing values that is available online in CSV format.\n",
    "\n",
    "Dataset Suggestion: I suggested the Titanic Passenger Dataset, which is well-known for its historical significance and contains missing values, particularly in the \"Age\" and \"Cabin\" columns. I provided a URL to access the dataset.\n",
    "\n",
    "Python Code: You requested Python code to load the dataset and check the missing value count. I provided a code snippet using pandas to load the Titanic dataset from the URL and count the missing values in each column.\n"
   ]
  },
  {
   "cell_type": "code",
   "execution_count": null,
   "id": "0135758b",
   "metadata": {},
   "outputs": [],
   "source": []
  }
 ],
 "metadata": {
  "kernelspec": {
   "display_name": "Python 3 (ipykernel)",
   "language": "python",
   "name": "python3"
  },
  "language_info": {
   "codemirror_mode": {
    "name": "ipython",
    "version": 3
   },
   "file_extension": ".py",
   "mimetype": "text/x-python",
   "name": "python",
   "nbconvert_exporter": "python",
   "pygments_lexer": "ipython3",
   "version": "3.11.6"
  }
 },
 "nbformat": 4,
 "nbformat_minor": 5
}
